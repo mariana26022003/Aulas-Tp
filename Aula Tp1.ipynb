{
 "cells": [
  {
   "cell_type": "markdown",
   "id": "1e545158",
   "metadata": {},
   "source": [
    "# Aula Prática 2 (guião)\n",
    "### Semana de 26 a 30 de Setembro de 2022\n",
    "### José Carlos Ramalho e Luís Cunha\n",
    "### Sinopsis:\n",
    "Algoritmos de cálculo numérico envolvendo estruturas condicionais (if-elif-else) e cíclicas (while)."
   ]
  },
  {
   "cell_type": "markdown",
   "id": "e38d18c4-d7d7-4fea-9bc6-e3f3c903386b",
   "metadata": {},
   "source": [
    "### Exercício 1: Soma de N números\n",
    "- Leia um número N;\n",
    "- Leia N números;\n",
    "- Imprima a soma dos N números."
   ]
  },
  {
   "cell_type": "code",
   "execution_count": 42,
   "id": "010b30c3",
   "metadata": {},
   "outputs": [
    {
     "name": "stdout",
     "output_type": "stream",
     "text": [
      "A soma é 4\n"
     ]
    }
   ],
   "source": [
    "N=int(input(\"introduza o valor de N\"))\n",
    "soma=0\n",
    "while N > 0:\n",
    "    numero=int(input(\"Introduza um numero:\"))\n",
    "    soma=soma+numero\n",
    "    N=N-1\n",
    "print(\"A soma é {}\". format(soma))\n"
   ]
  },
  {
   "cell_type": "markdown",
   "id": "bdcbffb0",
   "metadata": {},
   "source": [
    "### Exercício 2: O Maior de N números\n",
    "- Leia um número N;\n",
    "- Leia N números;\n",
    "- Imprima o maior dos N números."
   ]
  },
  {
   "cell_type": "code",
   "execution_count": 3,
   "id": "af973146-3bb4-4fa8-ba6c-b887b79ccff8",
   "metadata": {},
   "outputs": [
    {
     "name": "stdout",
     "output_type": "stream",
     "text": [
      "3\n"
     ]
    }
   ],
   "source": [
    "# Solução do exercício 2\n",
    "N=int(input(\"introduza o valor de N\"))\n",
    "lista=[]\n",
    "while N > 0:\n",
    "    numero=int(input(\"Introduza um numero\"))\n",
    "    lista.append(numero)\n",
    "    N=N-1\n",
    "maior=max(lista)\n",
    "print(maior)\n"
   ]
  },
  {
   "cell_type": "markdown",
   "id": "bdcbffb0",
   "metadata": {},
   "source": [
    "### Exercício 3: O Menor de N números\n",
    "- Leia um número N;\n",
    "- Leia N números;\n",
    "- Imprima o menor dos N números."
   ]
  },
  {
   "cell_type": "code",
   "execution_count": 1,
   "id": "64ad6f7b",
   "metadata": {},
   "outputs": [
    {
     "name": "stdout",
     "output_type": "stream",
     "text": [
      "1\n"
     ]
    }
   ],
   "source": [
    "# Solução do exercício 3\n",
    "\n",
    "N=int(input(\"introduza o valor de N\"))\n",
    "lista=[]\n",
    "while N > 0:\n",
    "    numero=int(input(\"Introduza um numero\"))\n",
    "    lista.append(numero)\n",
    "    N=N-1\n",
    "menor=min(lista)\n",
    "print(menor)\n"
   ]
  },
  {
   "cell_type": "markdown",
   "id": "bdcbffb0",
   "metadata": {},
   "source": [
    "### Exercício 4: A Média de N números\n",
    "- Leia um número N;\n",
    "- Leia N números;\n",
    "- Imprima a média dos N números."
   ]
  },
  {
   "cell_type": "code",
   "execution_count": 64,
   "id": "5fd928c5",
   "metadata": {},
   "outputs": [
    {
     "name": "stdout",
     "output_type": "stream",
     "text": [
      "1.2592592592592593\n"
     ]
    }
   ],
   "source": [
    "# Solução do exercício 4\n",
    "N=int(input(\"introduza o valor de N\"))\n",
    "divisor=N\n",
    "\n",
    "def med(l):\n",
    "    media=0\n",
    "    for numero in lista:\n",
    "        media=media + numero\n",
    "    return media/divisor\n",
    "\n",
    "lista=[]\n",
    "while N > 0:\n",
    "    numero=int(input(\"Introduza um numero\"))\n",
    "    lista.append(numero)\n",
    "    N=N-1\n",
    "print(med(lista))\n"
   ]
  },
  {
   "cell_type": "code",
   "execution_count": 8,
   "id": "a6c32b2e",
   "metadata": {},
   "outputs": [
    {
     "name": "stdout",
     "output_type": "stream",
     "text": [
      "2.0\n"
     ]
    }
   ],
   "source": [
    "# Solução 2 do exercício 4\n",
    "N=int(input(\"introduza o valor de N\"))\n",
    "divisor=N\n",
    "media=0\n",
    "while N > 0:\n",
    "    numero=int(input(\"Introduza um numero\"))\n",
    "    media=media + numero\n",
    "    N=N-1\n",
    "valor =media/divisor\n",
    "print(valor)\n",
    "\n",
    "\n",
    " \n"
   ]
  },
  {
   "cell_type": "markdown",
   "id": "f41ef69b",
   "metadata": {},
   "source": [
    "### Exercício 5: Potência\n",
    "- Defina uma função **pot** que recebe dois parâmetros, **a** e **b**, e retorna o resultado de **a elevado à potência de b**.\n",
    "- Use esta função para escrever no monitor as potências de 2 com expoentes de 1 a 20."
   ]
  },
  {
   "cell_type": "code",
   "execution_count": 26,
   "id": "ae5c1aea",
   "metadata": {},
   "outputs": [],
   "source": [
    "def pot (a,b):\n",
    "    res=a\n",
    "    while b > 0:\n",
    "        potencia  = res ** b\n",
    "        b = b - 1\n",
    "        return potencia  "
   ]
  },
  {
   "cell_type": "code",
   "execution_count": 27,
   "id": "4b4dbc49",
   "metadata": {},
   "outputs": [
    {
     "name": "stdout",
     "output_type": "stream",
     "text": [
      "0  ---  None\n",
      "1  ---  2\n",
      "2  ---  4\n",
      "3  ---  8\n",
      "4  ---  16\n",
      "5  ---  32\n",
      "6  ---  64\n",
      "7  ---  128\n",
      "8  ---  256\n",
      "9  ---  512\n",
      "10  ---  1024\n",
      "11  ---  2048\n",
      "12  ---  4096\n",
      "13  ---  8192\n",
      "14  ---  16384\n",
      "15  ---  32768\n",
      "16  ---  65536\n",
      "17  ---  131072\n",
      "18  ---  262144\n",
      "19  ---  524288\n",
      "20  ---  1048576\n"
     ]
    }
   ],
   "source": [
    "a=0\n",
    "while a < 21:\n",
    "    print(a,\" --- \",pot( 2 , a ))\n",
    "    a=a+1"
   ]
  },
  {
   "cell_type": "markdown",
   "id": "d11cdd11",
   "metadata": {},
   "source": [
    "### Exercício 6: Série numérica\n",
    "- Defina uma função **serie** que recebe três parâmetros, **base**, **salto** e **nelems**, e escreve no monitor a série;\n",
    "- Invocada com: **serie(7, 4, 5)** escreveria: 7, 11, 15, 19, 23"
   ]
  },
  {
   "cell_type": "code",
   "execution_count": 47,
   "id": "7549c7d7",
   "metadata": {},
   "outputs": [
    {
     "name": "stdout",
     "output_type": "stream",
     "text": [
      "[7, 11, 15, 19, 23]\n"
     ]
    }
   ],
   "source": [
    "# Solução do exercício 6\n",
    "b=int(input(\"introduza uma base\"))\n",
    "s=int(input(\"introduza um salto\"))\n",
    "n=int(input(\"introduza o numero de elementos\"))\n",
    "\n",
    "def serie():\n",
    "    lista = []\n",
    "    lista.append(b)\n",
    "    valor=b+s\n",
    "    lista.append(valor)\n",
    "    for numero in range(n-2):\n",
    "        valor=valor+s\n",
    "        lista.append(valor)\n",
    "    print(lista)\n",
    "\n",
    "serie()"
   ]
  },
  {
   "cell_type": "code",
   "execution_count": 2,
   "id": "7afa3d36",
   "metadata": {},
   "outputs": [
    {
     "name": "stdout",
     "output_type": "stream",
     "text": [
      "7\n",
      "11\n",
      "11\n",
      "11\n",
      "11\n",
      "11\n"
     ]
    }
   ],
   "source": [
    "# Solução 2 do exercício 6\n",
    "b=int(input(\"introduza uma base\"))\n",
    "s=int(input(\"introduza um salto\"))\n",
    "n=int(input(\"introduza o numero de elementos\"))\n",
    "\n",
    "def serie(b,s,n):\n",
    "    valor=b\n",
    "    print(valor)\n",
    "    while n>0:\n",
    "        valor=valor+s\n",
    "        print(valor)\n",
    "        n=n-1\n",
    "\n",
    "serie(b,s,n)"
   ]
  },
  {
   "cell_type": "markdown",
   "id": "73187e87",
   "metadata": {},
   "source": [
    "### Exercício 7: Desenhar um quadrado\n",
    "- Defina uma função **quad** que recebe um argumento, **n**, e desenha no monitor um quadrado usando o caráter '#';\n",
    "- O resultado da invocação dessa função com um argumento 3 deverá ser:\n",
    "```\n",
    "###\n",
    "###\n",
    "###\n",
    "```"
   ]
  },
  {
   "cell_type": "code",
   "execution_count": 61,
   "id": "cbce59ea",
   "metadata": {},
   "outputs": [
    {
     "name": "stdout",
     "output_type": "stream",
     "text": [
      "###\n",
      "###\n",
      "###\n"
     ]
    }
   ],
   "source": [
    "def quad(n):\n",
    "    n1=n\n",
    "    n2=n \n",
    "    while n2 > 0:\n",
    "        while n1 > 0:\n",
    "            print(\"#\",end=\"\")\n",
    "            n1= n1 - 1 \n",
    "        print(\"\")\n",
    "        n2 = n2 - 1\n",
    "        n1=n\n",
    "quad(3)\n"
   ]
  },
  {
   "cell_type": "markdown",
   "id": "10b1d00c",
   "metadata": {},
   "source": [
    "### Exercício 8: Desenhar um quadrado\n",
    "- Defina uma função que desenhe no ecran (usando os caracteres # e _) um tabuleiro de xadrez; \n",
    "- O resultado da invocação dessa função com um argumento 5 deverá ser:\n",
    "```\n",
    "#_#_#\n",
    "_#_#_\n",
    "#_#_#\n",
    "_#_#_\n",
    "#_#_#\n",
    "```"
   ]
  },
  {
   "cell_type": "code",
   "execution_count": 4,
   "id": "a4ccf6e1",
   "metadata": {},
   "outputs": [
    {
     "name": "stdout",
     "output_type": "stream",
     "text": [
      "#_#_#\n",
      "_#_#_\n",
      "#_#_#\n",
      "_#_#_\n",
      "#_#_#\n"
     ]
    }
   ],
   "source": [
    "# Solução do exercício 8\n",
    "def tabuleiro(n):\n",
    "    n1=n\n",
    "    n2=n\n",
    "    while n2 > 0:\n",
    "        while n1 > 0:\n",
    "            if n2 % 2 == 0:\n",
    "                if n1 % 2==0:\n",
    "                    print (\"#\", end=\"\")\n",
    "                else:\n",
    "                    print (\"_\",end=\"\")\n",
    "            else:\n",
    "                if n1 % 2 ==0:\n",
    "                    print (\"_\",end=\"\")\n",
    "                else:\n",
    "                    print (\"#\",end=\"\")\n",
    "            n1= n1 - 1\n",
    "        print(\"\")\n",
    "        n2 = n2 - 1\n",
    "        n1=n\n",
    "        \n",
    "tabuleiro(5)"
   ]
  },
  {
   "cell_type": "markdown",
   "id": "f4e2bc84",
   "metadata": {},
   "source": [
    "### Exercício 9: Índice de Massa Corporal\n",
    "- Defina uma função **imc** que recebe dois parâmetros, **peso**,**altura**, calcula o IMC corresponente e interpreta esse resultado.\n",
    "- imc(53,1.56) - Output: \"O seu índice de massa corporal é **21.78** e encontra-se na categoria **Normal**\"\n",
    "- imc(83,1.56) - Output: \"O seu índice de massa corporal é **34.11** e encontra-se na categoria **Obesidade grau I**\"\n",
    "\n",
    "Valores:\n",
    "- Menor que 18,5 - Baixo peso\n",
    "- 18,5 a 24,9 - Normal\n",
    "- 25 a 29,9\t- Excesso de peso\n",
    "- 30 a 34,9\t- Obesidade grau I\n",
    "- 35 a 39,9\t- Obesidade grau II\n",
    "- Maior que 40\t- Obesidade grau III"
   ]
  },
  {
   "cell_type": "code",
   "execution_count": 85,
   "id": "2a62004a",
   "metadata": {},
   "outputs": [
    {
     "name": "stdout",
     "output_type": "stream",
     "text": [
      "O seu índice de massa corporal é 20.41522491349481 e encontra-se na categoria Normal\n"
     ]
    }
   ],
   "source": [
    "w=float(input(\"introduza o peso\"))\n",
    "h=float(input(\"introduza a altura\"))\n",
    "\n",
    "def imc(w,h):\n",
    "    imc=w/h**2\n",
    "    categoria=\"\"\n",
    "    if imc < 18.5:\n",
    "        categoria=\"Baixo Peso\"\n",
    "    elif imc >= 18.5 and imc < 24.9:\n",
    "        categoria=\"Normal\"\n",
    "    elif imc >= 25 and imc < 29.9:\n",
    "        categoria=\"Excesso de peso\"\n",
    "    elif imc >= 30 and imc < 34.9:\n",
    "        categoria=\"Obesidade grau I\"\n",
    "    elif imc >= 35 and imc < 39.9:\n",
    "        categoria=\"Obesidade grau II\"\n",
    "    elif imc >= 40:\n",
    "        categoria=\"Obesidade grau III\"\n",
    "    print(\"O seu índice de massa corporal é {0} e encontra-se na categoria {1}\".format(imc,categoria))\n",
    "\n",
    "imc(w,h)"
   ]
  },
  {
   "cell_type": "markdown",
   "id": "5dcb3573",
   "metadata": {},
   "source": [
    "### Exercício 10: Série de Fibonacci\n",
    "- Defina uma função **fib** que recebe um argumento, **n**, e escreve no monitor os primeiros n elementos da série de fibonacci;\n",
    "- A série de Fibonacci tem a seguinte definição matemática:\n",
    "    - Se n < 2 ==> 1\n",
    "    - Se n >= 2 ==> fib(n-1) + fib(n-2)"
   ]
  },
  {
   "cell_type": "code",
   "execution_count": 25,
   "id": "fc54507c",
   "metadata": {},
   "outputs": [
    {
     "name": "stdout",
     "output_type": "stream",
     "text": [
      "3\n"
     ]
    }
   ],
   "source": [
    "# Solução do exercício 10\n",
    "n=int(input(\"introduza um numero\"))\n",
    "\n",
    "def fib(n):\n",
    "    if n==1:\n",
    "        return 1\n",
    "    elif n==2:\n",
    "        return 1\n",
    "    elif n >= 2:\n",
    "        return fib(n-1) + fib(n-2)\n",
    "\n",
    "print(fib(n))"
   ]
  },
  {
   "cell_type": "markdown",
   "id": "c10a9e44",
   "metadata": {},
   "source": [
    "### Exercício 11: Potência (recursiva)\n",
    "- Revisitando o problema da potência:\n",
    "    - Defina uma função **pot** que recebe dois parâmetros, **a** e **b**, e retorna o resultado de **a elevado à potência de b**;\n",
    "    - Defina esta função de forma recursiva."
   ]
  },
  {
   "cell_type": "code",
   "execution_count": 8,
   "id": "00146b49",
   "metadata": {},
   "outputs": [
    {
     "data": {
      "text/plain": [
       "1"
      ]
     },
     "execution_count": 8,
     "metadata": {},
     "output_type": "execute_result"
    }
   ],
   "source": [
    "# Solução do exercício 11\n",
    "a = float(input(\"introduza um numero\"))\n",
    "b = float(input(\"introduza um numero\")) \n",
    "c = a**b\n",
    "def pot(a,b):\n",
    "    if b == 0:\n",
    "        return 1 \n",
    "    else:\n",
    "        print(c)\n",
    "pot(a,b)"
   ]
  },
  {
   "cell_type": "markdown",
   "id": "81703f1b",
   "metadata": {},
   "source": [
    "### TPC2: Adivinha o número\n",
    "- Crie um programa em Python para jogar o jogo \"Adivinha o número\":\n",
    "    - O jogo pode ter 2 modalidades: computador pensa num número (entre 0 e 100), utilizador tenta adivinhar; ou, o utilizador pensa num número (entre 0 e 100) e o computador tenta adivinhar;\n",
    "    - Quem tenta adivinhar responde com uma das afirmações: \"Acertou\", \"O número que pensei é Maior\" ou \"O número que pensei é Menor\";\n",
    "    - Uma vez descoberto o número o programa deverá terminar imprimindo o número de tentativas que quem adivinhou usou para chegar ao resultado."
   ]
  },
  {
   "cell_type": "code",
   "execution_count": 2,
   "id": "7c4f1735",
   "metadata": {},
   "outputs": [],
   "source": [
    "import random\n",
    "n = int(input(\"Introduza o numero que será adivinhado\"))\n",
    "tentativa=0\n",
    "a = random.randrange(0,101)\n",
    "while n != a :\n",
    "    if a < n:\n",
    "        print(\"O número que pensei é Menor\")\n",
    "    elif a > n:\n",
    "        print (\"O número que pensei é Maior\")\n",
    "    a = random.randrange(0,101) \n",
    "    print(\"Acertou!\")\n",
    "    tentativa = tentativa + 1\n",
    "print(\"O número escolhido foi {0},acertaste após {1} tentativas\".format (n, tentativa))\n",
    "\n"
   ]
  },
  {
   "cell_type": "code",
   "execution_count": 13,
   "id": "1f419f93",
   "metadata": {},
   "outputs": [],
   "source": [
    "import random\n",
    "tentativas = 0\n",
    "sorteado = random.randrange(0, 100)\n",
    "tentativas = tentativas + 1\n",
    "palpite = int(input(\"introduzir um  número\"))\n",
    "while sorteado != palpite:\n",
    "    if palpite > sorteado :\n",
    "         print(\"O número que pensei é Maior\")\n",
    "    elif palpite < sorteado :\n",
    "        print(\"O número que pensei é Menor\")\n",
    "    else:\n",
    "        print(\"Acertou o número era o \", palpite)\n",
    "    tentativa = tentativas + 1\n",
    "print (\"Acertou!\")\n",
    "print (\"Foram usadas\",tentativas,\"tentativas!\")"
   ]
  },
  {
   "cell_type": "code",
   "execution_count": null,
   "id": "133acac1",
   "metadata": {},
   "outputs": [],
   "source": []
  }
 ],
 "metadata": {
  "kernelspec": {
   "display_name": "Python 3.10.7 64-bit (microsoft store)",
   "language": "python",
   "name": "python3"
  },
  "language_info": {
   "codemirror_mode": {
    "name": "ipython",
    "version": 3
   },
   "file_extension": ".py",
   "mimetype": "text/x-python",
   "name": "python",
   "nbconvert_exporter": "python",
   "pygments_lexer": "ipython3",
   "version": "3.10.7"
  },
  "vscode": {
   "interpreter": {
    "hash": "07f25d79d22bb07f853fe60dc6a8951878331861792a9e3972b395129bc8db22"
   }
  }
 },
 "nbformat": 4,
 "nbformat_minor": 5
}
